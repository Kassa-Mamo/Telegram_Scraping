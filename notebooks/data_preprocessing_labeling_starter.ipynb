{
 "cells": [
  {
   "cell_type": "code",
   "execution_count": 1,
   "metadata": {},
   "outputs": [
    {
     "name": "stdout",
     "output_type": "stream",
     "text": [
      "Channels file located at: C:\\Users\\user\\Desktop\\10 Acedamy W5\\All Data\\channels_to_crawl.csv\n"
     ]
    }
   ],
   "source": [
    "import os\n",
    "\n",
    "# Define paths to external data files\n",
    "DATA_FOLDER = r\"C:\\Users\\user\\Desktop\\10 Acedamy W5\\All Data\"\n",
    "CHANNELS_FILE = os.path.join(DATA_FOLDER, \"channels_to_crawl.csv\")\n",
    "SCRAPED_FILE = os.path.join(DATA_FOLDER, \"scraped_data.csv\")\n",
    "CLEANED_FILE = os.path.join(DATA_FOLDER, \"clean_data.csv\")\n",
    "LABELED_FILE = os.path.join(DATA_FOLDER, \"labeled_data.csv\")\n",
    "LOG_FILE = os.path.join(DATA_FOLDER, \"scraper.log\")\n",
    "\n",
    "# Example usage\n",
    "print(\"Channels file located at:\", CHANNELS_FILE)\n"
   ]
  },
  {
   "cell_type": "code",
   "execution_count": 2,
   "metadata": {},
   "outputs": [
    {
     "name": "stdout",
     "output_type": "stream",
     "text": [
      "Script started successfully!\n"
     ]
    }
   ],
   "source": [
    "print(\"Script started successfully!\")\n"
   ]
  },
  {
   "cell_type": "code",
   "execution_count": 3,
   "metadata": {},
   "outputs": [
    {
     "name": "stdout",
     "output_type": "stream",
     "text": [
      "Detected running event loop. Using create_task()\n"
     ]
    },
    {
     "name": "stdout",
     "output_type": "stream",
     "text": [
      "Connecting to Telegram...\n",
      "Please enter your phone (or bot token): "
     ]
    }
   ],
   "source": [
    "import asyncio\n",
    "from telethon import TelegramClient\n",
    "import csv\n",
    "import os\n",
    "\n",
    "# Define paths\n",
    "DATA_FOLDER = r\"C:\\Users\\user\\Desktop\\10 Acedamy W5\\All Data\"\n",
    "CHANNELS_FILE = os.path.join(DATA_FOLDER, \"channels_to_crawl.csv\")\n",
    "SCRAPED_FILE = os.path.join(DATA_FOLDER, \"scraped_data.csv\")\n",
    "LOG_FILE = os.path.join(DATA_FOLDER, \"scraper.log\")\n",
    "\n",
    "# Telegram API credentials\n",
    "api_id = 20173022  # Replace with your API ID\n",
    "api_hash = 'bab4a3351ed7634a8c1a3f8767fcf75c'  # Replace with your API Hash\n",
    "\n",
    "\n",
    "async def main():\n",
    "    print(\"Connecting to Telegram...\")\n",
    "    async with TelegramClient('scraper', api_id, api_hash) as client:\n",
    "        print(\"Connected to Telegram!\")\n",
    "\n",
    "        # Read channels\n",
    "        try:\n",
    "            with open(CHANNELS_FILE, 'r') as f:\n",
    "                channels = [line.strip().split(',')[1] for line in csv.reader(f) if line and len(line) > 1]\n",
    "        except FileNotFoundError:\n",
    "            print(f\"Error: Channels file not found at {CHANNELS_FILE}\")\n",
    "            return\n",
    "\n",
    "        # Prepare output CSV\n",
    "        with open(SCRAPED_FILE, 'w', newline='', encoding='utf-8') as outfile:\n",
    "            writer = csv.writer(outfile)\n",
    "            writer.writerow(['channel', 'sender', 'timestamp', 'message'])\n",
    "\n",
    "            # Scrape messages\n",
    "            for channel in channels:\n",
    "                try:\n",
    "                    print(f\"Scraping channel: {channel}\")\n",
    "                    async for message in client.iter_messages(channel, limit=100):\n",
    "                        writer.writerow([channel, message.sender_id, message.date, message.text])\n",
    "                except Exception as e:\n",
    "                    print(f\"Error with channel {channel}: {e}\")\n",
    "                    with open(LOG_FILE, 'a') as log_file:\n",
    "                        log_file.write(f\"Error with channel {channel}: {e}\\n\")\n",
    "    print(\"Scraping completed!\")\n",
    "\n",
    "\n",
    "# Run the async function\n",
    "if __name__ == \"__main__\":\n",
    "    # Check if already running inside an event loop\n",
    "    try:\n",
    "        loop = asyncio.get_running_loop()\n",
    "    except RuntimeError:  # No running loop\n",
    "        loop = None\n",
    "\n",
    "    if loop and loop.is_running():\n",
    "        print(\"Detected running event loop. Using create_task()\")\n",
    "        asyncio.create_task(main())\n",
    "    else:\n",
    "        print(\"No running event loop. Using asyncio.run()\")\n",
    "        asyncio.run(main())\n"
   ]
  },
  {
   "cell_type": "code",
   "execution_count": 1,
   "metadata": {},
   "outputs": [
    {
     "name": "stdout",
     "output_type": "stream",
     "text": [
      "Signed in successfully as Kassa Mamo; remember to not break the ToS or you will risk an account ban!\n",
      "Scraping messages from: example_channel1\n",
      "Scraping messages from: example_channel2\n",
      "Error scraping example_channel2: Nobody is using this username, or the username is unacceptable. If the latter, it must match r\"[a-zA-Z][\\w\\d]{3,30}[a-zA-Z\\d]\" (caused by ResolveUsernameRequest)\n",
      "Scraping messages from: example_channel3\n",
      "Error scraping example_channel3: No user has \"example_channel3\" as username\n",
      "Scraping messages from: example_channel4\n",
      "Error scraping example_channel4: No user has \"example_channel4\" as username\n",
      "Scraping messages from: example_channel5\n",
      "Error scraping example_channel5: No user has \"example_channel5\" as username\n",
      "Scraped data saved to: C:\\Users\\user\\Desktop\\10 Acedamy W5\\All Data\\telegram_data.csv\n"
     ]
    }
   ],
   "source": [
    "import nest_asyncio\n",
    "from telethon import TelegramClient\n",
    "import pandas as pd\n",
    "import os\n",
    "\n",
    "# Enable nested event loop (for Jupyter Notebooks)\n",
    "nest_asyncio.apply()\n",
    "\n",
    "# Credentials\n",
    "api_id = 20173022\n",
    "api_hash = 'bab4a3351ed7634a8c1a3f8767fcf75c'\n",
    "session_name = \"scraper\"\n",
    "\n",
    "# List of channels to scrape\n",
    "channels_to_scrape = [\n",
    "    \"example_channel1\",  # Replace with real channel usernames\n",
    "    \"example_channel2\",\n",
    "    \"example_channel3\",\n",
    "    \"example_channel4\",\n",
    "    \"example_channel5\"\n",
    "]\n",
    "\n",
    "# Output file\n",
    "output_file = r\"C:\\Users\\user\\Desktop\\10 Acedamy W5\\All Data\\telegram_data.csv\"\n",
    "\n",
    "async def scrape_telegram_channels():\n",
    "    async with TelegramClient(session_name, api_id, api_hash) as client:\n",
    "        all_messages = []\n",
    "        for channel in channels_to_scrape:\n",
    "            try:\n",
    "                print(f\"Scraping messages from: {channel}\")\n",
    "                async for message in client.iter_messages(channel, limit=1000):\n",
    "                    all_messages.append({\n",
    "                        \"id\": message.id,\n",
    "                        \"date\": message.date,\n",
    "                        \"sender_id\": message.sender_id,\n",
    "                        \"content\": message.message\n",
    "                    })\n",
    "            except Exception as e:\n",
    "                print(f\"Error scraping {channel}: {e}\")\n",
    "        \n",
    "        # Save the scraped data to a CSV file\n",
    "        if all_messages:\n",
    "            df = pd.DataFrame(all_messages)\n",
    "            df.to_csv(output_file, index=False)\n",
    "            print(f\"Scraped data saved to: {output_file}\")\n",
    "        else:\n",
    "            print(\"No messages scraped.\")\n",
    "\n",
    "# Run the scraper\n",
    "import asyncio\n",
    "asyncio.run(scrape_telegram_channels())\n"
   ]
  },
  {
   "cell_type": "code",
   "execution_count": null,
   "metadata": {},
   "outputs": [],
   "source": [
    "Task 2"
   ]
  },
  {
   "cell_type": "code",
   "execution_count": 1,
   "metadata": {},
   "outputs": [
    {
     "name": "stderr",
     "output_type": "stream",
     "text": [
      "[nltk_data] Downloading package punkt to\n",
      "[nltk_data]     C:\\Users\\user\\AppData\\Roaming\\nltk_data...\n",
      "[nltk_data]   Unzipping tokenizers\\punkt.zip.\n"
     ]
    },
    {
     "data": {
      "text/plain": [
       "True"
      ]
     },
     "execution_count": 1,
     "metadata": {},
     "output_type": "execute_result"
    }
   ],
   "source": [
    "import nltk\n",
    "nltk.download('punkt')\n"
   ]
  },
  {
   "cell_type": "code",
   "execution_count": 3,
   "metadata": {},
   "outputs": [
    {
     "name": "stderr",
     "output_type": "stream",
     "text": [
      "[nltk_data] Downloading package punkt to\n",
      "[nltk_data]     C:\\Users\\user\\AppData\\Roaming\\nltk_data...\n",
      "[nltk_data]   Package punkt is already up-to-date!\n",
      "[nltk_data] Downloading package punkt_tab to\n",
      "[nltk_data]     C:\\Users\\user\\AppData\\Roaming\\nltk_data...\n",
      "[nltk_data]   Unzipping tokenizers\\punkt_tab.zip.\n"
     ]
    },
    {
     "data": {
      "text/plain": [
       "True"
      ]
     },
     "execution_count": 3,
     "metadata": {},
     "output_type": "execute_result"
    }
   ],
   "source": [
    "import nltk\n",
    "nltk.download('punkt')\n",
    "nltk.download('punkt_tab')\n"
   ]
  },
  {
   "cell_type": "code",
   "execution_count": 4,
   "metadata": {},
   "outputs": [
    {
     "name": "stdout",
     "output_type": "stream",
     "text": [
      "Punkt tokenizer is installed correctly.\n"
     ]
    }
   ],
   "source": [
    "import nltk\n",
    "from nltk.tokenize import word_tokenize\n",
    "\n",
    "# Check if the resource exists\n",
    "nltk.data.find('tokenizers/punkt')\n",
    "print(\"Punkt tokenizer is installed correctly.\")\n"
   ]
  },
  {
   "cell_type": "code",
   "execution_count": 5,
   "metadata": {},
   "outputs": [
    {
     "name": "stdout",
     "output_type": "stream",
     "text": [
      "Labeled dataset saved to: C:\\Users\\user\\Desktop\\10 Acedamy W5\\All Data\\labeled_telegram_product_price_location.txt\n"
     ]
    },
    {
     "name": "stderr",
     "output_type": "stream",
     "text": [
      "[nltk_data] Downloading package punkt to\n",
      "[nltk_data]     C:\\Users\\user\\AppData\\Roaming\\nltk_data...\n",
      "[nltk_data]   Package punkt is already up-to-date!\n"
     ]
    }
   ],
   "source": [
    "import pandas as pd\n",
    "import nltk\n",
    "from nltk.tokenize import word_tokenize\n",
    "\n",
    "# Ensure that 'punkt' is downloaded\n",
    "nltk.download('punkt')\n",
    "\n",
    "# Load the scraped data\n",
    "input_file = r\"C:\\Users\\user\\Desktop\\10 Acedamy W5\\All Data\\telegram_data.csv\"\n",
    "output_file = r\"C:\\Users\\user\\Desktop\\10 Acedamy W5\\All Data\\labeled_telegram_product_price_location.txt\"\n",
    "\n",
    "# Load the data\n",
    "df = pd.read_csv(input_file)\n",
    "\n",
    "# Preprocess and tokenize the messages\n",
    "def label_message(message):\n",
    "    tokens = word_tokenize(message)\n",
    "    labeled_tokens = []\n",
    "    for token in tokens:\n",
    "        # Assign \"O\" as default for all tokens\n",
    "        labeled_tokens.append(f\"{token} O\")\n",
    "    return labeled_tokens\n",
    "\n",
    "# Label the first 30 messages and write to a text file\n",
    "try:\n",
    "    with open(output_file, \"w\", encoding=\"utf-8\") as f:\n",
    "        for i, row in df.iterrows():\n",
    "            if i >= 30:  # Limit to 30 messages\n",
    "                break\n",
    "            message = str(row[\"content\"])  # Ensure correct column name here\n",
    "            labeled_tokens = label_message(message)\n",
    "            for token in labeled_tokens:\n",
    "                f.write(token + \"\\n\")\n",
    "            f.write(\"\\n\")  # Blank line between messages\n",
    "\n",
    "    print(f\"Labeled dataset saved to: {output_file}\")\n",
    "except Exception as e:\n",
    "    print(f\"Error during file writing: {e}\")\n"
   ]
  },
  {
   "cell_type": "code",
   "execution_count": null,
   "metadata": {},
   "outputs": [],
   "source": []
  }
 ],
 "metadata": {
  "kernelspec": {
   "display_name": "venv",
   "language": "python",
   "name": "python3"
  },
  "language_info": {
   "codemirror_mode": {
    "name": "ipython",
    "version": 3
   },
   "file_extension": ".py",
   "mimetype": "text/x-python",
   "name": "python",
   "nbconvert_exporter": "python",
   "pygments_lexer": "ipython3",
   "version": "3.11.6"
  }
 },
 "nbformat": 4,
 "nbformat_minor": 2
}
